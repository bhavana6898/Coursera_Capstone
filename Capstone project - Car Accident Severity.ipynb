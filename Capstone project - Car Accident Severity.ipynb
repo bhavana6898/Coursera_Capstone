{
    "cells": [
        {
            "cell_type": "markdown",
            "metadata": {
                "collapsed": true
            },
            "source": "# CAPSTONE PROJECT"
        },
        {
            "cell_type": "markdown",
            "metadata": {},
            "source": "### CAR ACCIDENT SEVERITY"
        },
        {
            "cell_type": "code",
            "execution_count": 1,
            "metadata": {},
            "outputs": [],
            "source": "import pandas as pd\nimport numpy as np"
        },
        {
            "cell_type": "markdown",
            "metadata": {},
            "source": "## Introduction\n\nLet's imagine, that my family and I have made plans of going out in the evening and everyone is almost ready. But suddenly I see flash of lightening outside, hear the roaring thunder and the pitter-patter of rain drops. Everyone gets dissappointed as the elders start advising that it is not safe to drive in such conditions. We cancel the plan. \nHowever, we cannot do the same if it is an urgent meeting you have to attend or catch a flight for an important business oppurtunity overseas. Because the elders are just making vague predictions based on their experience. It is coorect to a certain extent but these appointments cannot be missed based on predictions made with no certain proof.\n\nThus, this project focuses on bulding a Machine Learning Model to predict the safety of the travellers (i.e) the probability of an accident to occur based on various factors including weather, road conditions, traffic, etc. It helps make more accurate predictions based on the data collected from different accident locations in Seattle.\n\nThe information gathered by performing Data Analysis on the collected data will help the police forces and emergency medical evcuation team to warned and be prepared for being able to reach the location that are accident-prone areas.\nIf found that the state of the roads are being a major cause for accidents, then the public works department can be notified about the amendments to be made for safe travel."
        },
        {
            "cell_type": "markdown",
            "metadata": {},
            "source": "## About the Dataset\n\nThe details of various accidents and the severity of the accident occuring at muliple location across Seattle are collected and recorded to analyse and find the cause of accident so as to warn the concerned to take appropriate measures to reduce the accident rates.\n\nThe severity of the accident is categorized into five groups. The aim of the model is to find the dependency of severity of the accident on the factors like age of the driver, location of accident, whether the driver was under influence or not.\n\nI have the accident data downloaded as **Data-Collisions.csv**, which includes all types of collisions. Collisions will display at the intersection or\nmid-block of a segment. Timeframe: 2004 to Present. Data obtained from *SDOT Traffic Management Division, Traffic Records Group.\n\n* OBJECTID - ESRI unique identifier\n* SHAPE - ESRI geometry field\n* INCKEY - A unique key for the incident\n* COLDETKEY - Secondary key for the incident\n* ADDRTYPE - Collision address type: Alley, Block, Intersection\n* INTKEY - Key that corresponds to the intersection associated with a collision \n* LOCATION - Description of the general location of the collision\n* SEVERITYCODE - A code that corresponds to the severity of the collision:\n3\u2014fatality,\n2b\u2014serious injury,\n2\u2014injury,\n1\u2014prop damage,\n0\u2014unknown,\n\n* SEVERITYDESC - A detailed description of the severity of the collision\n* COLLISIONTYPE - Collision type\n* PERSONCOUNT - The total number of people involved in the collision\n* PEDCOUNT - The number of pedestrians involved in the collision. \n* PEDCYLCOUNT - The number of bicycles involved in the collision. \n* VEHCOUNT - The number of vehicles involved in the collision. \n* INJURIES - The number of total injuries in the collision. \n* SERIOUSINJURIES - The number of serious injuries in the collision.\n* FATALITIES - The number of fatalities in the collision.\n* INCDATE - The date of the incident.\n* INCDTTM - The date and time of the incident.\n* JUNCTIONTYPE - Category of junction at which collision took place\n* SDOT_COLCODE - A code given to the collision by SDOT.\n* SDOT_COLDESC - A description of the collision corresponding to the collision code.\n* INATTENTIONIND - Whether or not collision was due to inattention. (Y/N)\n* UNDERINFL - Whether or not a driver involved was under the influence of drugs or alcohol. \n* WEATHER - A description of the weather conditions during the time of the collision.\n* ROADCOND - The condition of the road during the collision.\n* LIGHTCOND - The light conditions during the collision.\n* PEDROWNOTGRNT - Whether or not the pedestrian right of way was not granted. (Y/N)\n* SDOTCOLNUM - A number given to the collision by SDOT.\n* SPEEDING - Whether or not speeding was a factor in the collision. (Y/N)\n* ST_COLCODE - A code provided by the state that describes the collision. For more information about these codes, please see the State Collision Code Dictionary.\n* ST_COLDESC - A description that corresponds to the state\u2019s coding designation.\n* SEGLANEKEY - A key for the lane segment in which the collision occurred.\n* CROSSWALKKEY - A key for the crosswalk at which the collision occurred.\n* HITPARKEDCAR - Whether or not the collision involved hitting a parked car. (Y/N) "
        },
        {
            "cell_type": "markdown",
            "metadata": {},
            "source": "#### State Collision Code Dictionary \n\n* 0 - Vehicle Going Straight Hits Pedestrian\n* 1 - Vehicle Turning Right Hits Pedestrian\n* 2 - Vehicle Turning Left Hits Pedestrian\n* 3 - Vehicle Backing Hits Pedestrian\n* 4 - Vehicle Hits Pedestrian - All Other Actions\n* 5 - Vehicle Hits Pedestrian - Actions Not Stated\n* 10 - Entering At Angle\n* 11 - From Same Direction -Both Going Straight-Both Moving- Sideswipe\n* 12 - From Same Direction -Both Going Straight-One Stopped- Sideswipe\n* 13 - From Same Direction - Both Going Straight - Both Moving - Rear End "
        },
        {
            "cell_type": "code",
            "execution_count": null,
            "metadata": {},
            "outputs": [],
            "source": ""
        }
    ],
    "metadata": {
        "kernelspec": {
            "display_name": "Python 3.6",
            "language": "python",
            "name": "python3"
        },
        "language_info": {
            "codemirror_mode": {
                "name": "ipython",
                "version": 3
            },
            "file_extension": ".py",
            "mimetype": "text/x-python",
            "name": "python",
            "nbconvert_exporter": "python",
            "pygments_lexer": "ipython3",
            "version": "3.6.9"
        }
    },
    "nbformat": 4,
    "nbformat_minor": 1
}